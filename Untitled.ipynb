{
 "cells": [
  {
   "metadata": {},
   "cell_type": "markdown",
   "source": [
    "# Data Visualisation Project by Moritz Bernhofer\n",
    "\n",
    "## Technologies used\n",
    "\n",
    "* python\n",
    "    * pandas\n",
    "    * seaborn\n",
    "    * matplot\n",
    "* javascript\n",
    "    * p5 js\n",
    "* html\n",
    "    * p5 canvas\n",
    "\n",
    "## Dataset\n",
    "\n",
    "### Dataset Details:\n",
    "- **Source**: A scraped dataset from LeetCode (via Kaggle), containing details of 3,306 programming questions.\n",
    "- **Purpose**: To analyze LeetCode questions that focus on various programming languages (e.g., Python, CPP, Java) and problem-solving aspects involving data structures and algorithms.\n",
    "\n",
    "### Dataset Breakdown:\n",
    "1. **Key Statistics**:\n",
    "    - Total Records: 3,306\n",
    "\n",
    "2. **Columns in the Dataset**:\n",
    "    - `Question_No`: Unique identifier for each LeetCode question.\n",
    "    - `Question`: The title of the question.\n",
    "    - `Topic_tags`: Tags representing the conceptual topics of the question.\n",
    "    - `Acceptance`: Acceptance rate (%) of solutions submitted for the question.\n",
    "    - `isPremium`: Boolean indicating premium subscription requirement.\n",
    "    - `Difficulty`: The difficulty level (`Easy`, `Medium`, `Hard`).\n",
    "    - `Question_Link`: URL to the question on LeetCode.\n",
    "    - `Solution`: URL to available solutions for the question.\n",
    "\n",
    "[Source](https://www.kaggle.com/datasets/mohitkumar282/leetcode-questions-dataset)\n"
   ],
   "id": "662708d5a9f7d279"
  },
  {
   "metadata": {},
   "cell_type": "code",
   "outputs": [],
   "execution_count": null,
   "source": "",
   "id": "3145135e49c9a0ad"
  },
  {
   "metadata": {},
   "cell_type": "markdown",
   "source": "",
   "id": "4af7507d8831ac49"
  }
 ],
 "metadata": {
  "kernelspec": {
   "display_name": "Python 3 (ipykernel)",
   "language": "python",
   "name": "python3"
  },
  "language_info": {
   "codemirror_mode": {
    "name": "ipython",
    "version": 3
   },
   "file_extension": ".py",
   "mimetype": "text/x-python",
   "name": "python",
   "nbconvert_exporter": "python",
   "pygments_lexer": "ipython3",
   "version": "3.12.7"
  }
 },
 "nbformat": 4,
 "nbformat_minor": 5
}
